{
 "cells": [
  {
   "cell_type": "markdown",
   "metadata": {},
   "source": [
    "- 오디오관련 알고리즘을 체험해보고 공부해보는 생각을 가지고 간단하게 해봤습니다.\n",
    "- 개선점이 많을 것으로 생각되고 틀린내용이 존재할 수도 있음에 양해부탁드립니다.\n",
    "- colab basic을 통해 학습했습니다."
   ]
  },
  {
   "cell_type": "markdown",
   "metadata": {},
   "source": [
    "#  1. 환경구축"
   ]
  },
  {
   "cell_type": "markdown",
   "metadata": {},
   "source": [
    "###  필요 모듈 불러오기"
   ]
  },
  {
   "cell_type": "code",
   "execution_count": 1,
   "metadata": {
    "colab": {
     "base_uri": "https://localhost:8080/"
    },
    "executionInfo": {
     "elapsed": 4684,
     "status": "ok",
     "timestamp": 1655262080816,
     "user": {
      "displayName": "이우원",
      "userId": "05495556713808915653"
     },
     "user_tz": -540
    },
    "id": "mRMSPr9j3f1S",
    "outputId": "6bdf991f-b661-41a5-9043-c84930bc1915"
   },
   "outputs": [
    {
     "name": "stdout",
     "output_type": "stream",
     "text": [
      "Drive already mounted at /content/drive; to attempt to forcibly remount, call drive.mount(\"/content/drive\", force_remount=True).\n",
      "/content/drive/MyDrive/Colab Notebooks/audio\n"
     ]
    }
   ],
   "source": [
    "import pandas as pd\n",
    "import numpy as np\n",
    "import matplotlib.pyplot as plt\n",
    "import seaborn as sns\n",
    "import os\n",
    "import warnings\n",
    "import tensorflow as tf\n",
    "from tqdm import tqdm\n",
    "from glob import glob\n",
    "from google.colab import drive\n",
    "\n",
    "import librosa\n",
    "import librosa.display as dsp\n",
    "import IPython.display as ipd\n",
    "\n",
    "warnings.filterwarnings(action='ignore')\n",
    "drive.mount('/content/drive')\n",
    "\n",
    "%cd '/content/drive/MyDrive/Colab Notebooks/audio'"
   ]
  },
  {
   "cell_type": "markdown",
   "metadata": {},
   "source": [
    "###  시드고정"
   ]
  },
  {
   "cell_type": "code",
   "execution_count": 2,
   "metadata": {
    "executionInfo": {
     "elapsed": 15,
     "status": "ok",
     "timestamp": 1655262080818,
     "user": {
      "displayName": "이우원",
      "userId": "05495556713808915653"
     },
     "user_tz": -540
    },
    "id": "e1wPjTXQ4Xw3"
   },
   "outputs": [],
   "source": [
    "import random\n",
    "\n",
    "def seed_everything(seed):\n",
    "    random.seed(seed)\n",
    "    os.environ['PYTHONHASHSEED'] = str(seed)\n",
    "    np.random.seed(seed)\n",
    "    tf.random.set_seed(seed)\n",
    "\n",
    "seed_everything(813)\n",
    "\n",
    "train = pd.read_csv('train.csv')\n",
    "test = pd.read_csv('test.csv')\n",
    "submission = pd.read_csv('sample_submission.csv')"
   ]
  },
  {
   "cell_type": "markdown",
   "metadata": {},
   "source": [
    "# 2. 오디오 데이터 불러오기"
   ]
  },
  {
   "cell_type": "markdown",
   "metadata": {},
   "source": [
    "### Sampling rate\n",
    "- sampling rate는 아날로그 정보를 얼마나 잘게 쪼갤지를 결정\n",
    "- 잘게 쪼갤수록 정보 손실이 줄어들지만, 데이터의 크기가 늘어남\n",
    "- 일반적으로 인간의 청각영역은 8 kHz(8000 sample/second)이고\n",
    "- sampleing rate는 2배 커져 16000으로 설정한다고함 librosa에서의 기본값은 22050\n",
    "- 하지만 더 나은 해상도를 위해 좀 더 여유롭게 20000으로 설정함"
   ]
  },
  {
   "cell_type": "code",
   "execution_count": 3,
   "metadata": {
    "executionInfo": {
     "elapsed": 13,
     "status": "ok",
     "timestamp": 1655262080819,
     "user": {
      "displayName": "이우원",
      "userId": "05495556713808915653"
     },
     "user_tz": -540
    },
    "id": "kNiFIuE7mbPL"
   },
   "outputs": [],
   "source": [
    "sr = 16000"
   ]
  },
  {
   "cell_type": "markdown",
   "metadata": {},
   "source": [
    "몇 개의 데이터를 샘플링하여 살펴보면 모두 다른 길이를 가지고 있음\n",
    "길이를 맞춰야 함을 의미"
   ]
  },
  {
   "cell_type": "code",
   "execution_count": 4,
   "metadata": {
    "colab": {
     "base_uri": "https://localhost:8080/"
    },
    "executionInfo": {
     "elapsed": 1779,
     "status": "ok",
     "timestamp": 1655262082586,
     "user": {
      "displayName": "이우원",
      "userId": "05495556713808915653"
     },
     "user_tz": -540
    },
    "id": "F7nFQRWF38Ij",
    "outputId": "01c6ca71-6b04-4a63-9aa4-19bada2027db"
   },
   "outputs": [
    {
     "name": "stdout",
     "output_type": "stream",
     "text": [
      "012.wav\n",
      "sample_rate: 20000 , audio shape: (10803,)\n",
      "length: 0.54015 secs\n",
      "\n",
      "\n",
      "004.wav\n",
      "sample_rate: 20000 , audio shape: (12910,)\n",
      "length: 0.6455 secs\n",
      "\n",
      "\n",
      "006.wav\n",
      "sample_rate: 20000 , audio shape: (17572,)\n",
      "length: 0.8786 secs\n",
      "\n",
      "\n",
      "007.wav\n",
      "sample_rate: 20000 , audio shape: (14158,)\n",
      "length: 0.7079 secs\n",
      "\n",
      "\n",
      "001.wav\n",
      "sample_rate: 20000 , audio shape: (12740,)\n",
      "length: 0.637 secs\n",
      "\n",
      "\n"
     ]
    }
   ],
   "source": [
    "for i in os.listdir('./train')[:3]:\n",
    "  print(f'{i}')\n",
    "  data, sample_rate = librosa.load(f'./train/{i}', sr=sr)\n",
    "  print('sample_rate:', sample_rate, ', audio shape:', data.shape)\n",
    "  print('length:', data.shape[0]/float(sample_rate), 'secs')\n",
    "  print('\\n')"
   ]
  },
  {
   "cell_type": "code",
   "execution_count": 5,
   "metadata": {
    "executionInfo": {
     "elapsed": 19,
     "status": "ok",
     "timestamp": 1655262082587,
     "user": {
      "displayName": "이우원",
      "userId": "05495556713808915653"
     },
     "user_tz": -540
    },
    "id": "PdK_1HGp5a0v"
   },
   "outputs": [],
   "source": [
    "from tqdm.notebook import tqdm\n",
    "\n",
    "train_file_names = train[\"file_name\"].to_numpy()\n",
    "test_file_names = test[\"file_name\"].to_numpy()\n",
    "target = train[\"label\"].to_numpy()\n",
    "\n",
    "def load_audio(file_names, target, path):   \n",
    "  audios = []\n",
    "  for audio in tqdm(file_names):\n",
    "    # librosa를 이용하여 데이터 로드\n",
    "    an_audio, _ = librosa.load(path+audio, sr=sr)\n",
    "    audio_array = np.array(an_audio)\n",
    "    audios.append(audio_array)\n",
    "  audios = np.array(audios)\n",
    "\n",
    "  targets = target.copy()\n",
    "\n",
    "  return audios, targets"
   ]
  },
  {
   "cell_type": "code",
   "execution_count": 6,
   "metadata": {
    "colab": {
     "base_uri": "https://localhost:8080/",
     "height": 81,
     "referenced_widgets": [
      "caeb8d66677242b4b6943532a980154d",
      "73b4a4775f28466cb0599fb4abec4055",
      "7b5552a811e84c829e1c35aead0a3e97",
      "c758d646d1524c618c7c0f759be14c4a",
      "2a194319f44d48b8a5e5fd26dab054e1",
      "81996a087e7b4ab28e57285974d7424d",
      "201cc2ab858d47cb9f6d76437db0db5a",
      "a127231a89254c2880d625f7503dbbaa",
      "9ebdbdb2ad6140579e9a7165ff75e13b",
      "79814327de714a6cb79c9a8c9fc6a0f8",
      "16c79cc9cfa34d2082fcf76715955ce1",
      "9280faf10e4e41f28437933fe4ef7258",
      "a30ae9235bce4fdab04b91853d2a35c2",
      "a6dc5aa5c0a44424a9933ad3a15585ae",
      "f8407c09f97744289d6ff96e21239533",
      "a40a7a0a1aa14f5aa20311a2785fd4f4",
      "894422f71ec043f08d02d24ad4b2ed28",
      "d08ed7edf87548478598244db81cdba4",
      "8327730af8ad481bb8c8f47fa661d64f",
      "a813768dc65c4a67917f0f5fb7105e47",
      "cb7920c89dd1488a9cc1a4b4fb391877",
      "8d85471079dc4f9bb3ad8bb81af174f1"
     ]
    },
    "executionInfo": {
     "elapsed": 28650,
     "status": "ok",
     "timestamp": 1655262111220,
     "user": {
      "displayName": "이우원",
      "userId": "05495556713808915653"
     },
     "user_tz": -540
    },
    "id": "YF4bz5o56C7e",
    "outputId": "b5dec38d-c54a-4596-d4c1-cee517ad3bd6"
   },
   "outputs": [
    {
     "data": {
      "application/vnd.jupyter.widget-view+json": {
       "model_id": "caeb8d66677242b4b6943532a980154d",
       "version_major": 2,
       "version_minor": 0
      },
      "text/plain": [
       "  0%|          | 0/400 [00:00<?, ?it/s]"
      ]
     },
     "metadata": {},
     "output_type": "display_data"
    },
    {
     "data": {
      "application/vnd.jupyter.widget-view+json": {
       "model_id": "9280faf10e4e41f28437933fe4ef7258",
       "version_major": 2,
       "version_minor": 0
      },
      "text/plain": [
       "  0%|          | 0/200 [00:00<?, ?it/s]"
      ]
     },
     "metadata": {},
     "output_type": "display_data"
    }
   ],
   "source": [
    "audio_train, target_train = load_audio(train_file_names, target, path='./train/')\n",
    "audio_test, _ = load_audio(test_file_names, np.array([None]), path='./test/')"
   ]
  },
  {
   "cell_type": "markdown",
   "metadata": {},
   "source": [
    "# 3. 오디오 데이터 feature 추출\n",
    "\n",
    "- 오디오데이터로부터 그래프를 얻고 이를 이미지로 표현해 cnn모델에 넣어 분류하고자 함\n",
    "\n",
    "- 자주 사용한다고 하는 melspectrogram, mfcc 두가지 방법을 이용해 특징 추출\n",
    "\n",
    "\n",
    "### 1) melspectrogram\n",
    "- 사람은 낮은 주파수를 높은 주파수보다 더 예민하게 받아들임\n",
    "\n",
    "- 500 ~ 1500 Hz 가 바뀌는건 예민하게 인식하는데 반해 10000Hz ~ 11000Hz가 바뀌는 것은 잘 인식 못한다는 것. \n",
    "\n",
    "- 주파수 단위를 다음 공식에 따라 멜 스케일로 변환\n",
    "$$\n",
    "m = 2595 \\log_{10}\\left(1 + \\frac{f}{700}\\right)\n",
    "$$\n",
    "\n",
    "- 해당 scale을 적용해 spectogram을 만든 것이 melspectogram\n",
    "\n",
    "\n",
    "### 2) mfcc\n",
    "\n",
    "- Mel-Spectrogram이라는 피쳐에 대해 행렬을 압축해서 표현해주는 DCT 연산을 수행\n",
    "\n",
    "\n",
    "### 3) melspectrogram vs mfcc\n",
    "- Mel-Spectrogram의 경우 주파수끼리 Correlate하기 때문에 도메인이 한정적인 문제에서 더 좋은 성능을 보이고,\n",
    "- MFCC의 경우는 De-Correlate를 해주기 때문에 일반적인 상황에서 더 좋은 성능을 보여준다고 함.\n",
    "\n",
    "\n",
    "- 출처 https://m.blog.naver.com/PostView.naver?isHttpsRedirect=true&blogId=sooftware&logNo=221661644808"
   ]
  },
  {
   "cell_type": "code",
   "execution_count": 11,
   "metadata": {
    "colab": {
     "base_uri": "https://localhost:8080/",
     "height": 840
    },
    "executionInfo": {
     "elapsed": 22,
     "status": "ok",
     "timestamp": 1655262112250,
     "user": {
      "displayName": "이우원",
      "userId": "05495556713808915653"
     },
     "user_tz": -540
    },
    "id": "oUZ-qOqDDEvG",
    "outputId": "4332a49d-18c0-4de2-835c-83123f2db039"
   },
   "outputs": [
    {
     "data": {
      "text/plain": [
       "<matplotlib.colorbar.Colorbar at 0x7fb34097d1d0>"
      ]
     },
     "execution_count": 11,
     "metadata": {},
     "output_type": "execute_result"
    },
    {
     "data": {
      "image/png": "[encoded data removed]",
      "text/plain": [
       "<Figure size 1008x1008 with 4 Axes>"
      ]
     },
     "metadata": {
      "needs_background": "light"
     },
     "output_type": "display_data"
    }
   ],
   "source": [
    "plt.figure(figsize=(14,14))\n",
    "ax = plt.subplot(2, 1, 1)\n",
    "\n",
    "\n",
    "ax = plt.subplot(2, 1, 1)\n",
    "S = librosa.feature.melspectrogram(audio_train[15], sr=sr, n_mels=40)\n",
    "log_S = librosa.power_to_db(S, ref=np.max)\n",
    "librosa.display.specshow(log_S, sr=sr)\n",
    "plt.title('Mel spectrogram')\n",
    "plt.xlabel(\"Time\")\n",
    "plt.ylabel(\"Frequency\")\n",
    "plt.colorbar(format='%+2.0f dB')\n",
    "\n",
    "ax = plt.subplot(2, 1, 2)\n",
    "mfcc = librosa.feature.mfcc(audio_train[15], sr=sr, n_mels=40)\n",
    "librosa.display.specshow(mfcc, sr=sr)\n",
    "plt.title('MFCC')\n",
    "plt.xlabel(\"Time\")\n",
    "plt.ylabel(\"MFCC coeffis\")\n",
    "plt.colorbar()"
   ]
  },
  {
   "attachments": {
    "image.png": {
     "image/png": "[encoded data removed]"
    }
   },
   "cell_type": "markdown",
   "metadata": {},
   "source": [
    "### 4) padding\n",
    "\n",
    "- 오디오들의 길이가 같지 않기때문에 melspectrogram과 mfcc 모두 길이가 제각각\n",
    "- 여유로운 크기의 고정 사이즈를 정하고 \n",
    "- 고정사이즈에 맞추어 랜덤으로 앞이나 뒤에 padding을 실시\n",
    "\n",
    "- 각각 파일마다 데시벨의 차이가 있을 것이라 생각하고 파일마다 min_max_scale 실시\n",
    "- padding이전에 scale할것인가 이후에 할 것인가는 각 featureset의 아웃풋 이미지를보고 색이 적절한 것을 선택 (옳은 방법이 아닐수도)\n",
    "\n",
    "#### ** translation invariance\n",
    "- CNN에서 translation invariance란 input의 위치가 달라져도 output이 동일한 값을 갖는것\n",
    "- 분류에 cnn모델을 적용할 것이기 때문에 padding 적용가능\n",
    "\n",
    "![image.png](attachment:image.png)"
   ]
  },
  {
   "cell_type": "code",
   "execution_count": 12,
   "metadata": {
    "executionInfo": {
     "elapsed": 17,
     "status": "ok",
     "timestamp": 1655262112252,
     "user": {
      "displayName": "이우원",
      "userId": "05495556713808915653"
     },
     "user_tz": -540
    },
    "id": "Y0a9G9ogMTsg"
   },
   "outputs": [],
   "source": [
    "def random_pad(mels, pad_size, mfcc=True):\n",
    "\n",
    "  pad_width = pad_size - mels.shape[1]\n",
    "  rand = np.random.rand()\n",
    "  left = int(pad_width * rand)\n",
    "  right = pad_width - left\n",
    "  \n",
    "  if mfcc:\n",
    "    mels = np.pad(mels, pad_width=((0,0), (left, right)), mode='constant')\n",
    "    local_max, local_min = mels.max(), mels.min()\n",
    "    mels = (mels - local_min)/(local_max - local_min)\n",
    "  else:\n",
    "    local_max, local_min = mels.max(), mels.min()\n",
    "    mels = (mels - local_min)/(local_max - local_min)\n",
    "    mels = np.pad(mels, pad_width=((0,0), (left, right)), mode='constant')\n",
    "\n",
    "\n",
    "  return mels"
   ]
  },
  {
   "cell_type": "markdown",
   "metadata": {},
   "source": [
    "- 가장 긴 파일의 오디오정보가 잘리지 않을 정도의 pad_size를 설정\n",
    "- 즉, pad_size는 sample rate에 따라 달라질 것\n",
    "- melspectrogram과 mfcc의 n은 리턴값이 정사각형이 될 수 있도록 같은 40 설정 \n",
    "- 리턴값이 커질수록 feature의 값이 많아지는 것이기 때문에 성능에 영향을 미칠 것으로 예상"
   ]
  },
  {
   "cell_type": "code",
   "execution_count": 13,
   "metadata": {
    "executionInfo": {
     "elapsed": 17,
     "status": "ok",
     "timestamp": 1655262112253,
     "user": {
      "displayName": "이우원",
      "userId": "05495556713808915653"
     },
     "user_tz": -540
    },
    "id": "Fkxnt8KU20C0"
   },
   "outputs": [],
   "source": [
    "size = 40\n",
    "pad_size = 40\n",
    "repeat_size = 5"
   ]
  },
  {
   "cell_type": "markdown",
   "metadata": {},
   "source": [
    "- train에는 data agumentation이 될 것이라고 생각하고 하나의 파일에 5번 padding을 이용해 생성 "
   ]
  },
  {
   "cell_type": "code",
   "execution_count": 14,
   "metadata": {
    "executionInfo": {
     "elapsed": 3371,
     "status": "ok",
     "timestamp": 1655262115608,
     "user": {
      "displayName": "이우원",
      "userId": "05495556713808915653"
     },
     "user_tz": -540
    },
    "id": "xwpDg3ZJ8QbC"
   },
   "outputs": [],
   "source": [
    "audio_mels = []\n",
    "audio_mfcc = []\n",
    "\n",
    "for y in audio_train:\n",
    "  mels = librosa.feature.melspectrogram(y, sr=sr, n_mels=size)\n",
    "  mels = librosa.power_to_db(mels, ref=np.max)\n",
    "\n",
    "  mfcc = librosa.feature.mfcc(y, sr=sr, n_mfcc=size)\n",
    "  \n",
    "  for i in range(repeat_size):\n",
    "    audio_mels.append(random_pad(mels, pad_size=pad_size, mfcc=False))\n",
    "    audio_mfcc.append(random_pad(mfcc, pad_size=pad_size, mfcc=True))"
   ]
  },
  {
   "cell_type": "code",
   "execution_count": 15,
   "metadata": {
    "executionInfo": {
     "elapsed": 1881,
     "status": "ok",
     "timestamp": 1655262117465,
     "user": {
      "displayName": "이우원",
      "userId": "05495556713808915653"
     },
     "user_tz": -540
    },
    "id": "ApFO7A-oUxUZ"
   },
   "outputs": [],
   "source": [
    "audio_mels_array_test = []\n",
    "audio_mfcc_array_test = []\n",
    "\n",
    "for y in audio_test:\n",
    "  mels = librosa.feature.melspectrogram(y, sr=sr, n_mels=size)\n",
    "  mels = librosa.power_to_db(mels, ref=np.max)\n",
    "\n",
    "  mfcc = librosa.feature.mfcc(y, sr=sr, n_mfcc=size)\n",
    "\n",
    "  audio_mels_array_test.append(random_pad(mels, pad_size=pad_size, mfcc=False))\n",
    "  audio_mfcc_array_test.append(random_pad(mfcc, pad_size=pad_size, mfcc=True))"
   ]
  },
  {
   "cell_type": "markdown",
   "metadata": {},
   "source": [
    "- librosa로 리턴된값은 바로 모델에 들어갈 수 없기 때문에 np.array로 변환\n",
    "- 각각 melspectrogram, mfcc 데이터 셋이 생성됨"
   ]
  },
  {
   "cell_type": "code",
   "execution_count": 16,
   "metadata": {
    "executionInfo": {
     "elapsed": 13,
     "status": "ok",
     "timestamp": 1655262117466,
     "user": {
      "displayName": "이우원",
      "userId": "05495556713808915653"
     },
     "user_tz": -540
    },
    "id": "jM5hwEie-Tb6"
   },
   "outputs": [],
   "source": [
    "audio_mels_array = np.array(audio_mels, np.float64)\n",
    "audio_mfcc_array = np.array(audio_mfcc, np.float64)\n",
    "\n",
    "audio_mels_array_test = np.array(audio_mels_array_test, np.float64)\n",
    "audio_mfcc_array_test = np.array(audio_mfcc_array_test, np.float64)"
   ]
  },
  {
   "cell_type": "markdown",
   "metadata": {},
   "source": [
    "- 위의 두줄은 melspectrogram로 생성한 이미지\n",
    "- 아래 두줄은 mfcc로 생성한 이미지"
   ]
  },
  {
   "cell_type": "code",
   "execution_count": 17,
   "metadata": {
    "colab": {
     "base_uri": "https://localhost:8080/",
     "height": 594
    },
    "executionInfo": {
     "elapsed": 2537,
     "status": "ok",
     "timestamp": 1655262119993,
     "user": {
      "displayName": "이우원",
      "userId": "05495556713808915653"
     },
     "user_tz": -540
    },
    "id": "2VfmcXMmI262",
    "outputId": "601cb757-9319-40e5-a67b-6d937855068c"
   },
   "outputs": [
    {
     "data": {
      "image/png": "[encoded data removed]",
      "text/plain": [
       "<Figure size 720x720 with 16 Axes>"
      ]
     },
     "metadata": {
      "needs_background": "light"
     },
     "output_type": "display_data"
    }
   ],
   "source": [
    "target_num = 2\n",
    "target_num_idx = np.where(target_train==target_num)[0]\n",
    "target_num_idx = np.random.choice(target_num_idx,16)\n",
    "\n",
    "plt.figure(figsize=(10, 10))\n",
    "ax = plt.subplot(4, 4, 1)\n",
    "\n",
    "for i, idx in enumerate(target_num_idx):\n",
    "  ax = plt.subplot(4, 4, i + 1)\n",
    "  if i<8:\n",
    "    plt.imshow(audio_mels_array[idx], aspect='auto')\n",
    "  else:\n",
    "    plt.imshow(audio_mfcc_array[idx], aspect='auto')"
   ]
  },
  {
   "cell_type": "markdown",
   "metadata": {},
   "source": [
    "- 증강한 데이터만큼 target값도 복제"
   ]
  },
  {
   "cell_type": "code",
   "execution_count": 18,
   "metadata": {
    "executionInfo": {
     "elapsed": 12,
     "status": "ok",
     "timestamp": 1655262119994,
     "user": {
      "displayName": "이우원",
      "userId": "05495556713808915653"
     },
     "user_tz": -540
    },
    "id": "JZmYqLkAJLJs"
   },
   "outputs": [],
   "source": [
    "from sklearn.model_selection import train_test_split\n",
    "\n",
    "repeated_target = np.repeat(target_train,repeat_size)\n",
    "# x_train, x_val, y_train, y_val = train_test_split(audio_cqt_array, repeated_target, test_size=0.2, random_state=813, stratify=repeated_target)"
   ]
  },
  {
   "cell_type": "markdown",
   "metadata": {},
   "source": [
    "# Model\n",
    "\n",
    "- pre-trained 모델 사용이 불가능\n",
    "- audio분야에서 많이 사용된다는 resnet의 resblock을 응용하여 작은 모델 생성\n",
    "- audio학습에 대한 체험이 목적이기에 modeling에 큰 힘을 쏟지 않음\n",
    "- 타모델들을 같이 사용하여  emsenble한다면 성능 향상 예상"
   ]
  },
  {
   "cell_type": "code",
   "execution_count": 19,
   "metadata": {
    "executionInfo": {
     "elapsed": 13,
     "status": "ok",
     "timestamp": 1655262119996,
     "user": {
      "displayName": "이우원",
      "userId": "05495556713808915653"
     },
     "user_tz": -540
    },
    "id": "N3aBvGJfLnVF"
   },
   "outputs": [],
   "source": [
    "from tensorflow.keras.models import Sequential, Model\n",
    "from tensorflow.keras.layers import Dense, Dropout, Flatten, GlobalAveragePooling2D, Conv2D, MaxPool2D, ZeroPadding2D, BatchNormalization, Input, DepthwiseConv2D, Add, LeakyReLU, ReLU\n",
    "from tensorflow.keras.optimizers import Adam, SGD"
   ]
  },
  {
   "cell_type": "code",
   "execution_count": 20,
   "metadata": {
    "executionInfo": {
     "elapsed": 14,
     "status": "ok",
     "timestamp": 1655262119997,
     "user": {
      "displayName": "이우원",
      "userId": "05495556713808915653"
     },
     "user_tz": -540
    },
    "id": "nvFlgnISieRe"
   },
   "outputs": [],
   "source": [
    "def residual_block(x, filters_in, filters_out):\n",
    "    shortcut = x\n",
    "    x = BatchNormalization()(x)\n",
    "    x = ReLU()(x)\n",
    "    x = Conv2D(filters_in, kernel_size=(1, 1), strides=(1, 1), padding=\"same\",kernel_initializer='he_normal')(x)\n",
    "\n",
    "    x = BatchNormalization()(x)\n",
    "    x = ReLU()(x)    \n",
    "    x = Conv2D(filters_in, kernel_size=(3, 3), strides=(1, 1), padding=\"same\",kernel_initializer='he_normal')(x)\n",
    "\n",
    "    x = BatchNormalization()(x)\n",
    "    x = ReLU()(x)  \n",
    "    x = Conv2D(filters_out, kernel_size=(1, 1), strides=(1, 1), padding=\"same\",kernel_initializer='he_normal')(x)\n",
    "\n",
    "    shortcut_channel = x.shape.as_list()[0]\n",
    "    \n",
    "    if shortcut_channel != filters_out:\n",
    "        shortcut = Conv2D(filters_out, kernel_size=(1, 1), strides=(1, 1), padding=\"same\",kernel_initializer='he_normal')(shortcut)\n",
    "        \n",
    "    x = Add()([x, shortcut])\n",
    "    return ReLU()(x)"
   ]
  },
  {
   "cell_type": "code",
   "execution_count": 21,
   "metadata": {
    "executionInfo": {
     "elapsed": 14,
     "status": "ok",
     "timestamp": 1655262119998,
     "user": {
      "displayName": "이우원",
      "userId": "05495556713808915653"
     },
     "user_tz": -540
    },
    "id": "LUQpx4HxLuN2"
   },
   "outputs": [],
   "source": [
    "def build_model():\n",
    "\n",
    "  inputs = tf.keras.layers.Input(shape=(size,pad_size,1))\n",
    "\n",
    "  outputs = Conv2D(16,(3,3),activation=None,padding='same',kernel_initializer='he_normal')(inputs)\n",
    "  outputs = BatchNormalization()(outputs)\n",
    "  outputs = ReLU()(outputs)\n",
    "  outputs = MaxPool2D((2,2))(outputs)\n",
    "\n",
    "  outputs = residual_block(outputs, 16, 32)\n",
    "  outputs = MaxPool2D((2,2))(outputs)\n",
    "  outputs = residual_block(outputs, 32, 32)\n",
    "  # outputs = residual_block(outputs, 32, 32)\n",
    "  outputs = residual_block(outputs, 32, 64)\n",
    "  outputs = MaxPool2D((2,2))(outputs)\n",
    "  outputs = residual_block(outputs, 64, 64)\n",
    "  # outputs = residual_block(outputs, 64, 64)\n",
    "  # outputs = MaxPool2D((2,2))(outputs)\n",
    "\n",
    "  outputs = GlobalAveragePooling2D()(outputs)\n",
    "  # outputs = Flatten()(outputs)\n",
    "\n",
    "  outputs = Dense(32,activation=None,kernel_initializer='he_normal')(outputs)\n",
    "  outputs = BatchNormalization()(outputs)\n",
    "  outputs = ReLU()(outputs)\n",
    "  outputs = Dropout(0.5)(outputs)\n",
    "\n",
    "  outputs = Dense(10,activation='softmax')(outputs)\n",
    "  model = Model(inputs=inputs, outputs=outputs)\n",
    "  model.compile(optimizer='adam',\n",
    "              loss='sparse_categorical_crossentropy',\n",
    "              metrics=['accuracy'])\n",
    "  \n",
    "  return model\n",
    "\n",
    "# model = build_model()\n",
    "# model.summary()"
   ]
  },
  {
   "cell_type": "markdown",
   "metadata": {},
   "source": [
    "# 학습\n",
    "- 5-fold StratifiedKFold 실시 및\n",
    "- 같은 모델을 melspectrogram, mfcc featureset에 학습시켜 emsenble"
   ]
  },
  {
   "cell_type": "code",
   "execution_count": 23,
   "metadata": {
    "colab": {
     "base_uri": "https://localhost:8080/"
    },
    "executionInfo": {
     "elapsed": 398378,
     "status": "ok",
     "timestamp": 1655262669151,
     "user": {
      "displayName": "이우원",
      "userId": "05495556713808915653"
     },
     "user_tz": -540
    },
    "id": "gPSlUda5Lwee",
    "outputId": "f78db852-6ac6-44f2-b431-c9db0bd39bbd"
   },
   "outputs": [
    {
     "name": "stdout",
     "output_type": "stream",
     "text": [
      "\n",
      "********** 1 fold **********\n",
      "mels_model_acc : 0.9500\n",
      "mfcc_model_acc : 0.9650\n",
      "ensemble_model_acc : 0.9875\n",
      "\n",
      "********** 2 fold **********\n",
      "mels_model_acc : 0.9525\n",
      "mfcc_model_acc : 0.9250\n",
      "ensemble_model_acc : 0.9675\n",
      "\n",
      "********** 3 fold **********\n",
      "mels_model_acc : 0.9175\n",
      "mfcc_model_acc : 0.9550\n",
      "ensemble_model_acc : 0.9750\n",
      "\n",
      "********** 4 fold **********\n",
      "mels_model_acc : 0.9600\n",
      "mfcc_model_acc : 0.9300\n",
      "ensemble_model_acc : 0.9775\n",
      "\n",
      "********** 5 fold **********\n",
      "mels_model_acc : 0.9225\n",
      "mfcc_model_acc : 0.9575\n",
      "ensemble_model_acc : 0.9750\n",
      "\n",
      "\n",
      "mean_acc : 0.9765\n"
     ]
    }
   ],
   "source": [
    "from sklearn.model_selection import StratifiedKFold\n",
    "from tensorflow.keras.models import load_model\n",
    "from sklearn.metrics import accuracy_score\n",
    "\n",
    "acc_list = []\n",
    "pred_list = []\n",
    "skf = StratifiedKFold(n_splits=5)\n",
    "\n",
    "for fold,(train_index, val_index) in enumerate(skf.split(audio_mels_array, repeated_target)):\n",
    "\n",
    "  print(f'\\n********** {fold+1} fold **********')\n",
    "\n",
    "  preds_val_list = []\n",
    "  ### melspectrogram ###\n",
    "  model = build_model()\n",
    "  x_train, x_val, y_train, y_val = audio_mels_array[train_index], audio_mels_array[val_index], repeated_target[train_index], repeated_target[val_index]\n",
    "  filepath = f\"model.res_test_0615_mels_{fold}.hdf5\"\n",
    "  callbacks = [tf.keras.callbacks.ModelCheckpoint(filepath, monitor='val_loss', verbose=0, save_best_only=True, mode='min')]\n",
    "  history = model.fit(x_train, y_train, batch_size=32, epochs=50, validation_data=(x_val,y_val), callbacks=callbacks, verbose=0)\n",
    "  model = load_model(filepath)\n",
    "\n",
    "  preds_val = model.predict(x_val)\n",
    "  preds_val_list.append(preds_val)\n",
    "  preds_val_label = np.argmax(preds_val, axis=1)\n",
    "  pred_list.append(model.predict(audio_mels_array_test))\n",
    "  print(f'mels_model_acc : {accuracy_score(y_val,preds_val_label):.4f}')\n",
    "\n",
    "  ### mfcc ###\n",
    "  model = build_model()\n",
    "  x_train, x_val, y_train, y_val = audio_mfcc_array[train_index], audio_mfcc_array[val_index], repeated_target[train_index], repeated_target[val_index]\n",
    "  filepath = f\"model.res_test_0615_mfcc_{fold}.hdf5\"\n",
    "  callbacks = [tf.keras.callbacks.ModelCheckpoint(filepath, monitor='val_loss', verbose=0, save_best_only=True, mode='min')]\n",
    "  history = model.fit(x_train, y_train, batch_size=32, epochs=50, validation_data=(x_val,y_val), callbacks=callbacks, verbose=0)\n",
    "  model = load_model(filepath)\n",
    "\n",
    "  preds_val = model.predict(x_val)\n",
    "  preds_val_list.append(preds_val)\n",
    "  preds_val_label = np.argmax(preds_val, axis=1)\n",
    "  pred_list.append(model.predict(audio_mfcc_array_test))\n",
    "  print(f'mfcc_model_acc : {accuracy_score(y_val,preds_val_label):.4f}')\n",
    "\n",
    "  ### ensemble ###\n",
    "  val_pred_result = preds_val_list[0].copy()\n",
    "  for i in range(1, len(preds_val_list)):\n",
    "      val_pred_result += preds_val_list[i]\n",
    "  val_pred_label = np.argmax(val_pred_result, axis=1)\n",
    "  en_acc = accuracy_score(y_val,val_pred_label)\n",
    "  acc_list.append(en_acc)\n",
    "  print(f'ensemble_model_acc : {en_acc:.4f}')\n",
    "\n",
    "print(f'\\n\\nmean_acc : {np.mean(acc_list):.4f}')"
   ]
  },
  {
   "cell_type": "markdown",
   "metadata": {
    "colab": {
     "base_uri": "https://localhost:8080/"
    },
    "executionInfo": {
     "elapsed": 273,
     "status": "ok",
     "timestamp": 1655262846350,
     "user": {
      "displayName": "이우원",
      "userId": "05495556713808915653"
     },
     "user_tz": -540
    },
    "id": "AlsRMSLvWoaR",
    "outputId": "2b854972-fcf6-4f6a-cf5f-f016e2d91b04"
   },
   "source": [
    "- 한개의 featureset을 이용한 것 보다 ensemble이 더 나은 성능들을 보임"
   ]
  },
  {
   "cell_type": "code",
   "execution_count": 24,
   "metadata": {
    "executionInfo": {
     "elapsed": 296,
     "status": "ok",
     "timestamp": 1655262837976,
     "user": {
      "displayName": "이우원",
      "userId": "05495556713808915653"
     },
     "user_tz": -540
    },
    "id": "YjT6oJ_i-LxS"
   },
   "outputs": [],
   "source": [
    "test_pred_result = pred_list[0].copy()\n",
    "for i in range(1, len(pred_list)):\n",
    "    test_pred_result += pred_list[i]\n",
    "\n",
    "submission['label'] = np.argmax(test_pred_result, axis=1)\n",
    "submission.head()\n",
    "submission.to_csv('./0615_1.csv', index=False) "
   ]
  }
 ],
 "metadata": {
  "accelerator": "GPU",
  "colab": {
   "authorship_tag": "ABX9TyMBfs/FDOHS/0hSvck3dzTj",
   "collapsed_sections": [],
   "name": "audio_0.97.ipynb의 사본",
   "provenance": []
  },
  "gpuClass": "standard",
  "kernelspec": {
   "display_name": "Python 3.10.4 64-bit",
   "language": "python",
   "name": "python3"
  },
  "language_info": {
   "codemirror_mode": {
    "name": "ipython",
    "version": 3
   },
   "file_extension": ".py",
   "mimetype": "text/x-python",
   "name": "python",
   "nbconvert_exporter": "python",
   "pygments_lexer": "ipython3",
   "version": "3.10.4"
  },
  "vscode": {
   "interpreter": {
    "hash": "369f2c481f4da34e4445cda3fffd2e751bd1c4d706f27375911949ba6bb62e1c"
   }
  },
  "widgets": {
   "application/vnd.jupyter.widget-state+json": {
    "16c79cc9cfa34d2082fcf76715955ce1": {
     "model_module": "@jupyter-widgets/controls",
     "model_module_version": "1.5.0",
     "model_name": "DescriptionStyleModel",
     "state": {
      "_model_module": "@jupyter-widgets/controls",
      "_model_module_version": "1.5.0",
      "_model_name": "DescriptionStyleModel",
      "_view_count": null,
      "_view_module": "@jupyter-widgets/base",
      "_view_module_version": "1.2.0",
      "_view_name": "StyleView",
      "description_width": ""
     }
    },
    "201cc2ab858d47cb9f6d76437db0db5a": {
     "model_module": "@jupyter-widgets/controls",
     "model_module_version": "1.5.0",
     "model_name": "DescriptionStyleModel",
     "state": {
      "_model_module": "@jupyter-widgets/controls",
      "_model_module_version": "1.5.0",
      "_model_name": "DescriptionStyleModel",
      "_view_count": null,
      "_view_module": "@jupyter-widgets/base",
      "_view_module_version": "1.2.0",
      "_view_name": "StyleView",
      "description_width": ""
     }
    },
    "2a194319f44d48b8a5e5fd26dab054e1": {
     "model_module": "@jupyter-widgets/base",
     "model_module_version": "1.2.0",
     "model_name": "LayoutModel",
     "state": {
      "_model_module": "@jupyter-widgets/base",
      "_model_module_version": "1.2.0",
      "_model_name": "LayoutModel",
      "_view_count": null,
      "_view_module": "@jupyter-widgets/base",
      "_view_module_version": "1.2.0",
      "_view_name": "LayoutView",
      "align_content": null,
      "align_items": null,
      "align_self": null,
      "border": null,
      "bottom": null,
      "display": null,
      "flex": null,
      "flex_flow": null,
      "grid_area": null,
      "grid_auto_columns": null,
      "grid_auto_flow": null,
      "grid_auto_rows": null,
      "grid_column": null,
      "grid_gap": null,
      "grid_row": null,
      "grid_template_areas": null,
      "grid_template_columns": null,
      "grid_template_rows": null,
      "height": null,
      "justify_content": null,
      "justify_items": null,
      "left": null,
      "margin": null,
      "max_height": null,
      "max_width": null,
      "min_height": null,
      "min_width": null,
      "object_fit": null,
      "object_position": null,
      "order": null,
      "overflow": null,
      "overflow_x": null,
      "overflow_y": null,
      "padding": null,
      "right": null,
      "top": null,
      "visibility": null,
      "width": null
     }
    },
    "73b4a4775f28466cb0599fb4abec4055": {
     "model_module": "@jupyter-widgets/controls",
     "model_module_version": "1.5.0",
     "model_name": "HTMLModel",
     "state": {
      "_dom_classes": [],
      "_model_module": "@jupyter-widgets/controls",
      "_model_module_version": "1.5.0",
      "_model_name": "HTMLModel",
      "_view_count": null,
      "_view_module": "@jupyter-widgets/controls",
      "_view_module_version": "1.5.0",
      "_view_name": "HTMLView",
      "description": "",
      "description_tooltip": null,
      "layout": "IPY_MODEL_81996a087e7b4ab28e57285974d7424d",
      "placeholder": "​",
      "style": "IPY_MODEL_201cc2ab858d47cb9f6d76437db0db5a",
      "value": "100%"
     }
    },
    "79814327de714a6cb79c9a8c9fc6a0f8": {
     "model_module": "@jupyter-widgets/base",
     "model_module_version": "1.2.0",
     "model_name": "LayoutModel",
     "state": {
      "_model_module": "@jupyter-widgets/base",
      "_model_module_version": "1.2.0",
      "_model_name": "LayoutModel",
      "_view_count": null,
      "_view_module": "@jupyter-widgets/base",
      "_view_module_version": "1.2.0",
      "_view_name": "LayoutView",
      "align_content": null,
      "align_items": null,
      "align_self": null,
      "border": null,
      "bottom": null,
      "display": null,
      "flex": null,
      "flex_flow": null,
      "grid_area": null,
      "grid_auto_columns": null,
      "grid_auto_flow": null,
      "grid_auto_rows": null,
      "grid_column": null,
      "grid_gap": null,
      "grid_row": null,
      "grid_template_areas": null,
      "grid_template_columns": null,
      "grid_template_rows": null,
      "height": null,
      "justify_content": null,
      "justify_items": null,
      "left": null,
      "margin": null,
      "max_height": null,
      "max_width": null,
      "min_height": null,
      "min_width": null,
      "object_fit": null,
      "object_position": null,
      "order": null,
      "overflow": null,
      "overflow_x": null,
      "overflow_y": null,
      "padding": null,
      "right": null,
      "top": null,
      "visibility": null,
      "width": null
     }
    },
    "7b5552a811e84c829e1c35aead0a3e97": {
     "model_module": "@jupyter-widgets/controls",
     "model_module_version": "1.5.0",
     "model_name": "FloatProgressModel",
     "state": {
      "_dom_classes": [],
      "_model_module": "@jupyter-widgets/controls",
      "_model_module_version": "1.5.0",
      "_model_name": "FloatProgressModel",
      "_view_count": null,
      "_view_module": "@jupyter-widgets/controls",
      "_view_module_version": "1.5.0",
      "_view_name": "ProgressView",
      "bar_style": "success",
      "description": "",
      "description_tooltip": null,
      "layout": "IPY_MODEL_a127231a89254c2880d625f7503dbbaa",
      "max": 400,
      "min": 0,
      "orientation": "horizontal",
      "style": "IPY_MODEL_9ebdbdb2ad6140579e9a7165ff75e13b",
      "value": 400
     }
    },
    "81996a087e7b4ab28e57285974d7424d": {
     "model_module": "@jupyter-widgets/base",
     "model_module_version": "1.2.0",
     "model_name": "LayoutModel",
     "state": {
      "_model_module": "@jupyter-widgets/base",
      "_model_module_version": "1.2.0",
      "_model_name": "LayoutModel",
      "_view_count": null,
      "_view_module": "@jupyter-widgets/base",
      "_view_module_version": "1.2.0",
      "_view_name": "LayoutView",
      "align_content": null,
      "align_items": null,
      "align_self": null,
      "border": null,
      "bottom": null,
      "display": null,
      "flex": null,
      "flex_flow": null,
      "grid_area": null,
      "grid_auto_columns": null,
      "grid_auto_flow": null,
      "grid_auto_rows": null,
      "grid_column": null,
      "grid_gap": null,
      "grid_row": null,
      "grid_template_areas": null,
      "grid_template_columns": null,
      "grid_template_rows": null,
      "height": null,
      "justify_content": null,
      "justify_items": null,
      "left": null,
      "margin": null,
      "max_height": null,
      "max_width": null,
      "min_height": null,
      "min_width": null,
      "object_fit": null,
      "object_position": null,
      "order": null,
      "overflow": null,
      "overflow_x": null,
      "overflow_y": null,
      "padding": null,
      "right": null,
      "top": null,
      "visibility": null,
      "width": null
     }
    },
    "8327730af8ad481bb8c8f47fa661d64f": {
     "model_module": "@jupyter-widgets/base",
     "model_module_version": "1.2.0",
     "model_name": "LayoutModel",
     "state": {
      "_model_module": "@jupyter-widgets/base",
      "_model_module_version": "1.2.0",
      "_model_name": "LayoutModel",
      "_view_count": null,
      "_view_module": "@jupyter-widgets/base",
      "_view_module_version": "1.2.0",
      "_view_name": "LayoutView",
      "align_content": null,
      "align_items": null,
      "align_self": null,
      "border": null,
      "bottom": null,
      "display": null,
      "flex": null,
      "flex_flow": null,
      "grid_area": null,
      "grid_auto_columns": null,
      "grid_auto_flow": null,
      "grid_auto_rows": null,
      "grid_column": null,
      "grid_gap": null,
      "grid_row": null,
      "grid_template_areas": null,
      "grid_template_columns": null,
      "grid_template_rows": null,
      "height": null,
      "justify_content": null,
      "justify_items": null,
      "left": null,
      "margin": null,
      "max_height": null,
      "max_width": null,
      "min_height": null,
      "min_width": null,
      "object_fit": null,
      "object_position": null,
      "order": null,
      "overflow": null,
      "overflow_x": null,
      "overflow_y": null,
      "padding": null,
      "right": null,
      "top": null,
      "visibility": null,
      "width": null
     }
    },
    "894422f71ec043f08d02d24ad4b2ed28": {
     "model_module": "@jupyter-widgets/base",
     "model_module_version": "1.2.0",
     "model_name": "LayoutModel",
     "state": {
      "_model_module": "@jupyter-widgets/base",
      "_model_module_version": "1.2.0",
      "_model_name": "LayoutModel",
      "_view_count": null,
      "_view_module": "@jupyter-widgets/base",
      "_view_module_version": "1.2.0",
      "_view_name": "LayoutView",
      "align_content": null,
      "align_items": null,
      "align_self": null,
      "border": null,
      "bottom": null,
      "display": null,
      "flex": null,
      "flex_flow": null,
      "grid_area": null,
      "grid_auto_columns": null,
      "grid_auto_flow": null,
      "grid_auto_rows": null,
      "grid_column": null,
      "grid_gap": null,
      "grid_row": null,
      "grid_template_areas": null,
      "grid_template_columns": null,
      "grid_template_rows": null,
      "height": null,
      "justify_content": null,
      "justify_items": null,
      "left": null,
      "margin": null,
      "max_height": null,
      "max_width": null,
      "min_height": null,
      "min_width": null,
      "object_fit": null,
      "object_position": null,
      "order": null,
      "overflow": null,
      "overflow_x": null,
      "overflow_y": null,
      "padding": null,
      "right": null,
      "top": null,
      "visibility": null,
      "width": null
     }
    },
    "8d85471079dc4f9bb3ad8bb81af174f1": {
     "model_module": "@jupyter-widgets/controls",
     "model_module_version": "1.5.0",
     "model_name": "DescriptionStyleModel",
     "state": {
      "_model_module": "@jupyter-widgets/controls",
      "_model_module_version": "1.5.0",
      "_model_name": "DescriptionStyleModel",
      "_view_count": null,
      "_view_module": "@jupyter-widgets/base",
      "_view_module_version": "1.2.0",
      "_view_name": "StyleView",
      "description_width": ""
     }
    },
    "9280faf10e4e41f28437933fe4ef7258": {
     "model_module": "@jupyter-widgets/controls",
     "model_module_version": "1.5.0",
     "model_name": "HBoxModel",
     "state": {
      "_dom_classes": [],
      "_model_module": "@jupyter-widgets/controls",
      "_model_module_version": "1.5.0",
      "_model_name": "HBoxModel",
      "_view_count": null,
      "_view_module": "@jupyter-widgets/controls",
      "_view_module_version": "1.5.0",
      "_view_name": "HBoxView",
      "box_style": "",
      "children": [
       "IPY_MODEL_a30ae9235bce4fdab04b91853d2a35c2",
       "IPY_MODEL_a6dc5aa5c0a44424a9933ad3a15585ae",
       "IPY_MODEL_f8407c09f97744289d6ff96e21239533"
      ],
      "layout": "IPY_MODEL_a40a7a0a1aa14f5aa20311a2785fd4f4"
     }
    },
    "9ebdbdb2ad6140579e9a7165ff75e13b": {
     "model_module": "@jupyter-widgets/controls",
     "model_module_version": "1.5.0",
     "model_name": "ProgressStyleModel",
     "state": {
      "_model_module": "@jupyter-widgets/controls",
      "_model_module_version": "1.5.0",
      "_model_name": "ProgressStyleModel",
      "_view_count": null,
      "_view_module": "@jupyter-widgets/base",
      "_view_module_version": "1.2.0",
      "_view_name": "StyleView",
      "bar_color": null,
      "description_width": ""
     }
    },
    "a127231a89254c2880d625f7503dbbaa": {
     "model_module": "@jupyter-widgets/base",
     "model_module_version": "1.2.0",
     "model_name": "LayoutModel",
     "state": {
      "_model_module": "@jupyter-widgets/base",
      "_model_module_version": "1.2.0",
      "_model_name": "LayoutModel",
      "_view_count": null,
      "_view_module": "@jupyter-widgets/base",
      "_view_module_version": "1.2.0",
      "_view_name": "LayoutView",
      "align_content": null,
      "align_items": null,
      "align_self": null,
      "border": null,
      "bottom": null,
      "display": null,
      "flex": null,
      "flex_flow": null,
      "grid_area": null,
      "grid_auto_columns": null,
      "grid_auto_flow": null,
      "grid_auto_rows": null,
      "grid_column": null,
      "grid_gap": null,
      "grid_row": null,
      "grid_template_areas": null,
      "grid_template_columns": null,
      "grid_template_rows": null,
      "height": null,
      "justify_content": null,
      "justify_items": null,
      "left": null,
      "margin": null,
      "max_height": null,
      "max_width": null,
      "min_height": null,
      "min_width": null,
      "object_fit": null,
      "object_position": null,
      "order": null,
      "overflow": null,
      "overflow_x": null,
      "overflow_y": null,
      "padding": null,
      "right": null,
      "top": null,
      "visibility": null,
      "width": null
     }
    },
    "a30ae9235bce4fdab04b91853d2a35c2": {
     "model_module": "@jupyter-widgets/controls",
     "model_module_version": "1.5.0",
     "model_name": "HTMLModel",
     "state": {
      "_dom_classes": [],
      "_model_module": "@jupyter-widgets/controls",
      "_model_module_version": "1.5.0",
      "_model_name": "HTMLModel",
      "_view_count": null,
      "_view_module": "@jupyter-widgets/controls",
      "_view_module_version": "1.5.0",
      "_view_name": "HTMLView",
      "description": "",
      "description_tooltip": null,
      "layout": "IPY_MODEL_894422f71ec043f08d02d24ad4b2ed28",
      "placeholder": "​",
      "style": "IPY_MODEL_d08ed7edf87548478598244db81cdba4",
      "value": "100%"
     }
    },
    "a40a7a0a1aa14f5aa20311a2785fd4f4": {
     "model_module": "@jupyter-widgets/base",
     "model_module_version": "1.2.0",
     "model_name": "LayoutModel",
     "state": {
      "_model_module": "@jupyter-widgets/base",
      "_model_module_version": "1.2.0",
      "_model_name": "LayoutModel",
      "_view_count": null,
      "_view_module": "@jupyter-widgets/base",
      "_view_module_version": "1.2.0",
      "_view_name": "LayoutView",
      "align_content": null,
      "align_items": null,
      "align_self": null,
      "border": null,
      "bottom": null,
      "display": null,
      "flex": null,
      "flex_flow": null,
      "grid_area": null,
      "grid_auto_columns": null,
      "grid_auto_flow": null,
      "grid_auto_rows": null,
      "grid_column": null,
      "grid_gap": null,
      "grid_row": null,
      "grid_template_areas": null,
      "grid_template_columns": null,
      "grid_template_rows": null,
      "height": null,
      "justify_content": null,
      "justify_items": null,
      "left": null,
      "margin": null,
      "max_height": null,
      "max_width": null,
      "min_height": null,
      "min_width": null,
      "object_fit": null,
      "object_position": null,
      "order": null,
      "overflow": null,
      "overflow_x": null,
      "overflow_y": null,
      "padding": null,
      "right": null,
      "top": null,
      "visibility": null,
      "width": null
     }
    },
    "a6dc5aa5c0a44424a9933ad3a15585ae": {
     "model_module": "@jupyter-widgets/controls",
     "model_module_version": "1.5.0",
     "model_name": "FloatProgressModel",
     "state": {
      "_dom_classes": [],
      "_model_module": "@jupyter-widgets/controls",
      "_model_module_version": "1.5.0",
      "_model_name": "FloatProgressModel",
      "_view_count": null,
      "_view_module": "@jupyter-widgets/controls",
      "_view_module_version": "1.5.0",
      "_view_name": "ProgressView",
      "bar_style": "success",
      "description": "",
      "description_tooltip": null,
      "layout": "IPY_MODEL_8327730af8ad481bb8c8f47fa661d64f",
      "max": 200,
      "min": 0,
      "orientation": "horizontal",
      "style": "IPY_MODEL_a813768dc65c4a67917f0f5fb7105e47",
      "value": 200
     }
    },
    "a813768dc65c4a67917f0f5fb7105e47": {
     "model_module": "@jupyter-widgets/controls",
     "model_module_version": "1.5.0",
     "model_name": "ProgressStyleModel",
     "state": {
      "_model_module": "@jupyter-widgets/controls",
      "_model_module_version": "1.5.0",
      "_model_name": "ProgressStyleModel",
      "_view_count": null,
      "_view_module": "@jupyter-widgets/base",
      "_view_module_version": "1.2.0",
      "_view_name": "StyleView",
      "bar_color": null,
      "description_width": ""
     }
    },
    "c758d646d1524c618c7c0f759be14c4a": {
     "model_module": "@jupyter-widgets/controls",
     "model_module_version": "1.5.0",
     "model_name": "HTMLModel",
     "state": {
      "_dom_classes": [],
      "_model_module": "@jupyter-widgets/controls",
      "_model_module_version": "1.5.0",
      "_model_name": "HTMLModel",
      "_view_count": null,
      "_view_module": "@jupyter-widgets/controls",
      "_view_module_version": "1.5.0",
      "_view_name": "HTMLView",
      "description": "",
      "description_tooltip": null,
      "layout": "IPY_MODEL_79814327de714a6cb79c9a8c9fc6a0f8",
      "placeholder": "​",
      "style": "IPY_MODEL_16c79cc9cfa34d2082fcf76715955ce1",
      "value": " 400/400 [00:22&lt;00:00, 31.03it/s]"
     }
    },
    "caeb8d66677242b4b6943532a980154d": {
     "model_module": "@jupyter-widgets/controls",
     "model_module_version": "1.5.0",
     "model_name": "HBoxModel",
     "state": {
      "_dom_classes": [],
      "_model_module": "@jupyter-widgets/controls",
      "_model_module_version": "1.5.0",
      "_model_name": "HBoxModel",
      "_view_count": null,
      "_view_module": "@jupyter-widgets/controls",
      "_view_module_version": "1.5.0",
      "_view_name": "HBoxView",
      "box_style": "",
      "children": [
       "IPY_MODEL_73b4a4775f28466cb0599fb4abec4055",
       "IPY_MODEL_7b5552a811e84c829e1c35aead0a3e97",
       "IPY_MODEL_c758d646d1524c618c7c0f759be14c4a"
      ],
      "layout": "IPY_MODEL_2a194319f44d48b8a5e5fd26dab054e1"
     }
    },
    "cb7920c89dd1488a9cc1a4b4fb391877": {
     "model_module": "@jupyter-widgets/base",
     "model_module_version": "1.2.0",
     "model_name": "LayoutModel",
     "state": {
      "_model_module": "@jupyter-widgets/base",
      "_model_module_version": "1.2.0",
      "_model_name": "LayoutModel",
      "_view_count": null,
      "_view_module": "@jupyter-widgets/base",
      "_view_module_version": "1.2.0",
      "_view_name": "LayoutView",
      "align_content": null,
      "align_items": null,
      "align_self": null,
      "border": null,
      "bottom": null,
      "display": null,
      "flex": null,
      "flex_flow": null,
      "grid_area": null,
      "grid_auto_columns": null,
      "grid_auto_flow": null,
      "grid_auto_rows": null,
      "grid_column": null,
      "grid_gap": null,
      "grid_row": null,
      "grid_template_areas": null,
      "grid_template_columns": null,
      "grid_template_rows": null,
      "height": null,
      "justify_content": null,
      "justify_items": null,
      "left": null,
      "margin": null,
      "max_height": null,
      "max_width": null,
      "min_height": null,
      "min_width": null,
      "object_fit": null,
      "object_position": null,
      "order": null,
      "overflow": null,
      "overflow_x": null,
      "overflow_y": null,
      "padding": null,
      "right": null,
      "top": null,
      "visibility": null,
      "width": null
     }
    },
    "d08ed7edf87548478598244db81cdba4": {
     "model_module": "@jupyter-widgets/controls",
     "model_module_version": "1.5.0",
     "model_name": "DescriptionStyleModel",
     "state": {
      "_model_module": "@jupyter-widgets/controls",
      "_model_module_version": "1.5.0",
      "_model_name": "DescriptionStyleModel",
      "_view_count": null,
      "_view_module": "@jupyter-widgets/base",
      "_view_module_version": "1.2.0",
      "_view_name": "StyleView",
      "description_width": ""
     }
    },
    "f8407c09f97744289d6ff96e21239533": {
     "model_module": "@jupyter-widgets/controls",
     "model_module_version": "1.5.0",
     "model_name": "HTMLModel",
     "state": {
      "_dom_classes": [],
      "_model_module": "@jupyter-widgets/controls",
      "_model_module_version": "1.5.0",
      "_model_name": "HTMLModel",
      "_view_count": null,
      "_view_module": "@jupyter-widgets/controls",
      "_view_module_version": "1.5.0",
      "_view_name": "HTMLView",
      "description": "",
      "description_tooltip": null,
      "layout": "IPY_MODEL_cb7920c89dd1488a9cc1a4b4fb391877",
      "placeholder": "​",
      "style": "IPY_MODEL_8d85471079dc4f9bb3ad8bb81af174f1",
      "value": " 200/200 [00:06&lt;00:00, 32.82it/s]"
     }
    }
   }
  }
 },
 "nbformat": 4,
 "nbformat_minor": 1
}
